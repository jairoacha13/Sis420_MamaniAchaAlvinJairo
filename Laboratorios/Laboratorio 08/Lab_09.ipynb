{
 "cells": [
  {
   "cell_type": "markdown",
   "metadata": {},
   "source": [
    "# Ejercicio de programación Regresión Lineal Multiple"
   ]
  },
  {
   "cell_type": "code",
   "execution_count": 59,
   "metadata": {},
   "outputs": [],
   "source": [
    "#Alumno: Mamani Acha Alvin Jairo.\n",
    "#Carrera: Ing. De Sistemas.\n",
    "#---------------------------------------------------------------------------------\n",
    "# utilizado para manejos de directorios y rutas\n",
    "import os\n",
    "\n",
    "# Computacion vectorial y cientifica para python\n",
    "import numpy as np\n",
    "\n",
    "# Librerias para graficación (trazado de gráficos)\n",
    "from matplotlib import pyplot\n",
    "from mpl_toolkits.mplot3d import Axes3D  # Necesario para graficar superficies 3D\n",
    "\n",
    "# llama a matplotlib a embeber graficas dentro de los cuadernillos\n",
    "%matplotlib inline"
   ]
  },
  {
   "cell_type": "markdown",
   "metadata": {},
   "source": [
    "## 2 Regresión lineal con multiples variables\n",
    "\n",
    "Se implementa la regresion lineal multivariable para predecir la calidad de los vinos. El archivo `Dataset/calidad del vino blanco.csv` contiene un conjunto de datos de entrenamiento de componentes que tiene el vino blanco. Las primeras 11 columnas indican en que medida estan presentes los componentes que conforman el vino blanco y la ultima columna indica la calidad que tiene el vino, en una nota que va del 0 al 10. \n",
    "\n",
    "<a id=\"section4\"></a>\n",
    "### 2.1 Normalización de caracteristicas\n",
    "\n",
    "Al visualizar los datos se puede observar que las caracteristicas tienen diferentes magnitudes, por lo cual se debe transformar cada valor en una escala de valores similares, esto con el fin de que el descenso por el gradiente pueda converger mas rapidamente."
   ]
  },
  {
   "cell_type": "code",
   "execution_count": 60,
   "metadata": {},
   "outputs": [
    {
     "name": "stdout",
     "output_type": "stream",
     "text": [
      "Primeras 10 datos del dataset(Solo se muestran las primeras dos X):\n",
      "  X[:,0] X[:, 1]         y\n",
      "--------------------------\n",
      "       7       0         6\n",
      "       6       0         6\n",
      "       8       0         6\n",
      "       7       0         6\n",
      "       7       0         6\n",
      "       8       0         6\n",
      "       6       0         6\n",
      "       7       0         6\n",
      "       6       0         6\n",
      "       8       0         6\n"
     ]
    }
   ],
   "source": [
    "# Cargar datos\n",
    "data = np.loadtxt(os.path.join('Dataset', 'calidad del vino blanco.csv'), delimiter=';')\n",
    "X = data[:, :11]\n",
    "y = data[:, 11]\n",
    "m = y.size\n",
    "\n",
    "# imprimir algunos puntos de datos\n",
    "print('Primeras 10 datos del dataset(Solo se muestran las primeras dos X):')\n",
    "print('{:>8s}{:>8s}{:>10s}'.format('X[:,0]', 'X[:, 1]', 'y'))\n",
    "print('-'*26)\n",
    "for i in range(10):\n",
    "    print('{:8.0f}{:8.0f}{:10.0f}'.format(X[i, 0], X[i, 1], y[i]))"
   ]
  },
  {
   "cell_type": "markdown",
   "metadata": {},
   "source": [
    "La desviación estándar es una forma de medir cuánta variación hay en el rango de valores de una característica en particular (la mayoría de los puntos caeran en un rango de ± 2 en relación a la desviaciones estándar de la media); esta es una alternativa a tomar el rango de valores (max-min). En `numpy`, se puede usar la función `std` para calcular la desviacion estandar. \n",
    "\n",
    "Por ejemplo, la caracteristica`X[:, 0]` contiene todos los valores de $x_1$ (tamaño de las casas) en el conjunto de entrenamiento, entonces `np.std(X[:, 0])` calcula la desviacion estandar de los tamaños de las casas.\n",
    "En el momento en que se llama a la función `featureNormalize`, la columna adicional de unos correspondiente a $ x_0 = 1 $ aún no se ha agregado a $ X $. \n",
    "\n",
    "<div class=\"alert alert-block alert-warning\">\n",
    "**Notas para la implementación:** Cuando se normalize una caracteristica, es importante almacenar los valores usados para la normalización - el valor de la media y el valor de la desviación estandar usado para los calculos. Despues de aprender los parametros del modelo, se deseara predecir los precios de casas que no se han visto antes. Dado un nuevo valor de x (area del living room y el numero de dormitorios), primero se debe normalizar x usando la media y la desviacion estandar que se empleo anteriormente en el conjunto de entrenamiento para entrenar el modelo.\n",
    "</div>\n",
    "<a id=\"featureNormalize\"></a>"
   ]
  },
  {
   "cell_type": "code",
   "execution_count": 61,
   "metadata": {},
   "outputs": [],
   "source": [
    "def  featureNormalize(X):\n",
    "    X_norm = X.copy()\n",
    "    mu = np.zeros(X.shape[1])\n",
    "    sigma = np.zeros(X.shape[1])\n",
    "\n",
    "    mu = np.mean(X, axis = 0)\n",
    "    sigma = np.std(X, axis = 0)\n",
    "    X_norm = (X - mu) / sigma\n",
    "    \n",
    "    return X_norm, mu, sigma"
   ]
  },
  {
   "cell_type": "code",
   "execution_count": 62,
   "metadata": {},
   "outputs": [
    {
     "name": "stdout",
     "output_type": "stream",
     "text": [
      "Valores de X:\n",
      "[[ 7.    0.27  0.36 ...  3.    0.45  8.8 ]\n",
      " [ 6.3   0.3   0.34 ...  3.3   0.49  9.5 ]\n",
      " [ 8.1   0.28  0.4  ...  3.26  0.44 10.1 ]\n",
      " ...\n",
      " [ 6.5   0.24  0.19 ...  2.99  0.46  9.4 ]\n",
      " [ 5.5   0.29  0.3  ...  3.34  0.38 12.8 ]\n",
      " [ 6.    0.21  0.38 ...  3.26  0.32 11.8 ]]\n",
      "****************************************************************************************************\n",
      "Media calculada: [6.85478767e+00 2.78241119e-01 3.34191507e-01 6.39141486e+00\n",
      " 4.57723561e-02 3.53080849e+01 1.38360657e+02 9.94027376e-01\n",
      " 3.18826664e+00 4.89846876e-01 1.05142670e+01]\n",
      "****************************************************************************************************\n",
      "Desviación estandar calculada: [8.43782079e-01 1.00784259e-01 1.21007450e-01 5.07153999e+00\n",
      " 2.18457377e-02 1.70054011e+01 4.24937260e+01 2.99060158e-03\n",
      " 1.50985184e-01 1.14114183e-01 1.23049494e+00]\n",
      "****************************************************************************************************\n",
      "Valores de X normalizada:\n",
      "[[ 1.72096961e-01 -8.17699008e-02  2.13280202e-01 ... -1.24692128e+00\n",
      "  -3.49184257e-01 -1.39315246e+00]\n",
      " [-6.57501128e-01  2.15895632e-01  4.80011213e-02 ...  7.40028640e-01\n",
      "   1.34184656e-03 -8.24275678e-01]\n",
      " [ 1.47575110e+00  1.74519434e-02  5.43838363e-01 ...  4.75101984e-01\n",
      "  -4.36815783e-01 -3.36667007e-01]\n",
      " ...\n",
      " [-4.20473102e-01 -3.79435433e-01 -1.19159198e+00 ... -1.31315295e+00\n",
      "  -2.61552731e-01 -9.05543789e-01]\n",
      " [-1.60561323e+00  1.16673788e-01 -2.82557040e-01 ...  1.00495530e+00\n",
      "  -9.62604939e-01  1.85757201e+00]\n",
      " [-1.01304317e+00 -6.77100966e-01  3.78559282e-01 ...  4.75101984e-01\n",
      "  -1.48839409e+00  1.04489089e+00]]\n"
     ]
    }
   ],
   "source": [
    "# llama featureNormalize con los datos cargados\n",
    "X_norm, mu, sigma = featureNormalize(X)\n",
    "\n",
    "print('Valores de X:')\n",
    "print(X)\n",
    "print('*'*100)\n",
    "print('Media calculada:', mu)\n",
    "print('*'*100)\n",
    "print('Desviación estandar calculada:', sigma)\n",
    "print('*'*100)\n",
    "print('Valores de X normalizada:')\n",
    "print(X_norm)"
   ]
  },
  {
   "cell_type": "markdown",
   "metadata": {},
   "source": [
    "Despues de `featureNormalize` la funcion es provada, se añade el temino de interseccion a `X_norm`:"
   ]
  },
  {
   "cell_type": "code",
   "execution_count": 63,
   "metadata": {},
   "outputs": [],
   "source": [
    "# Añade el termino de interseccion a X\n",
    "# (Columna de unos para X0)\n",
    "X = np.concatenate([np.ones((m, 1)), X_norm], axis=1)"
   ]
  },
  {
   "cell_type": "code",
   "execution_count": 64,
   "metadata": {},
   "outputs": [
    {
     "name": "stdout",
     "output_type": "stream",
     "text": [
      "[[ 1.00000000e+00  1.72096961e-01 -8.17699008e-02 ... -1.24692128e+00\n",
      "  -3.49184257e-01 -1.39315246e+00]\n",
      " [ 1.00000000e+00 -6.57501128e-01  2.15895632e-01 ...  7.40028640e-01\n",
      "   1.34184656e-03 -8.24275678e-01]\n",
      " [ 1.00000000e+00  1.47575110e+00  1.74519434e-02 ...  4.75101984e-01\n",
      "  -4.36815783e-01 -3.36667007e-01]\n",
      " ...\n",
      " [ 1.00000000e+00 -4.20473102e-01 -3.79435433e-01 ... -1.31315295e+00\n",
      "  -2.61552731e-01 -9.05543789e-01]\n",
      " [ 1.00000000e+00 -1.60561323e+00  1.16673788e-01 ...  1.00495530e+00\n",
      "  -9.62604939e-01  1.85757201e+00]\n",
      " [ 1.00000000e+00 -1.01304317e+00 -6.77100966e-01 ...  4.75101984e-01\n",
      "  -1.48839409e+00  1.04489089e+00]]\n"
     ]
    }
   ],
   "source": [
    "print(X)"
   ]
  },
  {
   "cell_type": "markdown",
   "metadata": {},
   "source": [
    "<a id=\"section5\"></a>\n",
    "### 2.2 Descenso por el gradiente\n",
    "\n",
    "En el ejemplo anterior se implemento el descenso por el gradiente para un problema de regresion univariable. La unica diferencia es que ahora existe una caracteristica adicional en la matriz $X$. La función de hipótesis y la regla de actualización del descenso del gradiente por lotes permanecen sin cambios.\n",
    "\n",
    "La implementacion de las funciones `computeCostMulti` y `gradientDescentMulti` son similares a la funcion de costo y función de descenso por el gradiente de la regresión lineal multiple es similar al de la regresion lineal multivariable. Es importante garantizar que el codigo soporte cualquier numero de caracteristicas y esten bien vectorizadas.\n",
    "\n",
    "Se puede utilizar `shape`, propiedad de los arrays `numpy`, para identificar cuantas caracteristicas estan consideradas en el dataset.\n",
    "\n",
    "<div class=\"alert alert-block alert-warning\">\n",
    "**Nota de implementación:** En el caso de multivariables, la función de costo puede se escrita considerando la forma vectorizada de la siguiente manera:\n",
    "\n",
    "$$ J(\\theta) = \\frac{1}{2m}(X\\theta - \\vec{y})^T(X\\theta - \\vec{y}) $$\n",
    "\n",
    "donde:\n",
    "\n",
    "$$ X = \\begin{pmatrix}\n",
    "          - (x^{(1)})^T - \\\\\n",
    "          - (x^{(2)})^T - \\\\\n",
    "          \\vdots \\\\\n",
    "          - (x^{(m)})^T - \\\\ \\\\\n",
    "        \\end{pmatrix} \\qquad \\mathbf{y} = \\begin{bmatrix} y^{(1)} \\\\ y^{(2)} \\\\ \\vdots \\\\ y^{(m)} \\\\\\end{bmatrix}$$\n",
    "\n",
    "La version vectorizada es eficiente cuando se trabaja con herramientas de calculo numericos computacional como `numpy`. \n",
    "</div>\n",
    "\n",
    "<a id=\"computeCostMulti\"></a>"
   ]
  },
  {
   "cell_type": "code",
   "execution_count": 65,
   "metadata": {},
   "outputs": [],
   "source": [
    "def computeCostMulti(X, y, theta):\n",
    "    # Inicializa algunos valores utiles\n",
    "    m = y.shape[0] # numero de ejemplos de entrenamiento\n",
    "    \n",
    "    J = 0\n",
    "    \n",
    "    h = np.dot(X, theta)\n",
    "    \n",
    "    J = (1/(2 * m)) * np.sum(np.square(np.dot(X, theta) - y))\n",
    "    \n",
    "    return J\n"
   ]
  },
  {
   "cell_type": "code",
   "execution_count": 66,
   "metadata": {},
   "outputs": [],
   "source": [
    "def gradientDescentMulti(X, y, theta, alpha, num_iters):\n",
    "    \n",
    "    # Inicializa algunos valores \n",
    "    m = y.shape[0] # numero de ejemplos de entrenamiento\n",
    "    \n",
    "    # realiza una copia de theta, el cual será acutalizada por el descenso por el gradiente\n",
    "    theta = theta.copy()\n",
    "    \n",
    "    J_history = []\n",
    "    \n",
    "    for i in range(num_iters):\n",
    "        theta = theta - (alpha / m) * (np.dot(X, theta) - y).dot(X)\n",
    "        J_history.append(computeCostMulti(X, y, theta))\n",
    "    \n",
    "    return theta, J_history"
   ]
  },
  {
   "cell_type": "markdown",
   "metadata": {},
   "source": [
    "#### 3.2.1 Seleccionando coheficientes de aprendizaje\n"
   ]
  },
  {
   "cell_type": "code",
   "execution_count": 67,
   "metadata": {},
   "outputs": [
    {
     "name": "stdout",
     "output_type": "stream",
     "text": [
      "theta calculado por el descenso por el gradiente: [ 5.87790935e+00  1.10138336e-02 -1.92183210e-01  1.61466111e-04\n",
      "  2.86534545e-01 -1.19683381e-02  7.14760389e-02 -2.13464142e-02\n",
      " -2.53062287e-01  6.71347888e-02  6.12491419e-02  3.30585673e-01]\n",
      "****************************************************************************************************\n",
      "La calidad predecida para esta mezcla es: 6 puntos.\n"
     ]
    },
    {
     "data": {
      "image/png": "[encoded data removed]",
      "text/plain": [
       "<Figure size 640x480 with 1 Axes>"
      ]
     },
     "metadata": {},
     "output_type": "display_data"
    }
   ],
   "source": [
    "# Elegir algun valor para alpha (probar varias alternativas)\n",
    "alpha = 0.01\n",
    "num_iters = 3000\n",
    "\n",
    "# inicializa theta y ejecuta el descenso por el gradiente\n",
    "theta = np.zeros(12)\n",
    "theta, J_history = gradientDescentMulti(X, y, theta, alpha, num_iters)\n",
    "\n",
    "# Grafica la convergencia del costo\n",
    "pyplot.plot(np.arange(len(J_history)), J_history, lw=2)\n",
    "pyplot.xlabel('Numero de iteraciones')\n",
    "pyplot.ylabel('Costo J')\n",
    "\n",
    "# Muestra los resultados del descenso por el gradiente\n",
    "print('theta calculado por el descenso por el gradiente: {:s}'.format(str(theta)))\n",
    "print('*'*100)\n",
    "# Estimar la calidad que puede tener un vino:\n",
    "X_array = [1, 5.8, 0.24, 0.44, 3.5, 0.029, 5, 109, 0.9913, 3.53, 0.43, 11.7]\n",
    "X_array[1:12] = (X_array[1:12] - mu) / sigma\n",
    "price = np.dot(X_array, theta)   # Se debe cambiar esto\n",
    "\n",
    "print('La calidad predecida para esta mezcla es: {:.0f} puntos.'.format(price))"
   ]
  },
  {
   "cell_type": "code",
   "execution_count": 68,
   "metadata": {},
   "outputs": [],
   "source": [
    "X_array = [1, 8.3, 0.42, 0.62, 19.25, 0.04, 41, 172, 1.0002, 2.98, 0.67, 9.7]\n",
    "X_array[1:12] = (X_array[1:12] - mu) / sigma"
   ]
  },
  {
   "cell_type": "code",
   "execution_count": 69,
   "metadata": {},
   "outputs": [
    {
     "data": {
      "text/plain": [
       "[1.712779125458688,\n",
       " 1.4065577623619692,\n",
       " 2.361908248438356,\n",
       " 2.535439957849831,\n",
       " -0.26423259982875663,\n",
       " 0.3347121912596522,\n",
       " 0.7916308061387367,\n",
       " 2.064007307645727,\n",
       " -1.3793846091159179,\n",
       " 1.578709313961042,\n",
       " -0.661739454258156]"
      ]
     },
     "execution_count": 69,
     "metadata": {},
     "output_type": "execute_result"
    }
   ],
   "source": [
    "X_array[1:12]"
   ]
  },
  {
   "cell_type": "markdown",
   "metadata": {},
   "source": [
    "<a id=\"section7\"></a>\n",
    "### 2.3 Ecuacion de la Normal\n",
    "\n",
    "Una manera de calcular rapidamente el modelo de una regresion lineal es:\n",
    "\n",
    "$$ \\theta = \\left( X^T X\\right)^{-1} X^T\\vec{y}$$\n",
    "\n",
    "Utilizando esta formula no requiere que se escale ninguna caracteristica, y se obtendra una solucion exacta con un solo calculo: no hay “bucles de convergencia” como en el descenso por el gradiente. \n",
    "\n",
    "Primero se recargan los datos para garantizar que las variables no esten modificadas. Recordar que no es necesario escalar las caracteristicas, se debe agregar la columna de unos a la matriz $X$ para tener el termino de intersección($\\theta_0$). "
   ]
  },
  {
   "cell_type": "code",
   "execution_count": 70,
   "metadata": {},
   "outputs": [],
   "source": [
    "# Cargar datos\n",
    "data = np.loadtxt(os.path.join('Dataset', 'calidad del vino blanco.csv'), delimiter=';')\n",
    "X = data[:, :11]\n",
    "y = data[:, 11]\n",
    "m = y.size\n",
    "X = np.concatenate([np.ones((m, 1)), X], axis=1)"
   ]
  },
  {
   "cell_type": "code",
   "execution_count": 71,
   "metadata": {},
   "outputs": [],
   "source": [
    "def normalEqn(X, y):\n",
    "  \n",
    "    theta = np.zeros(X.shape[1])\n",
    "    \n",
    "    theta = np.dot(np.dot(np.linalg.inv(np.dot(X.T,X)),X.T),y)\n",
    "    \n",
    "    return theta"
   ]
  },
  {
   "cell_type": "code",
   "execution_count": 72,
   "metadata": {},
   "outputs": [
    {
     "name": "stdout",
     "output_type": "stream",
     "text": [
      "Theta calculado a partir de la ecuación de la normal: [ 1.50192842e+02  6.55199612e-02 -1.86317709e+00  2.20902004e-02\n",
      "  8.14828025e-02 -2.47276537e-01  3.73276519e-03 -2.85747420e-04\n",
      " -1.50284180e+02  6.86343741e-01  6.31476472e-01  1.93475697e-01]\n",
      "La calidad predecida para esta mezcla es: 5 puntos\n"
     ]
    }
   ],
   "source": [
    "# Calcula los parametros con la ecuación de la normal:\n",
    "theta = normalEqn(X, y)\n",
    "\n",
    "# Muestra los resultados optenidos a partir de la aplicación de la ecuación de la normal:\n",
    "print('Theta calculado a partir de la ecuación de la normal: {:s}'.format(str(theta)));\n",
    "\n",
    "# Estimar la calidad que puede tener el vino blanco:\n",
    "\n",
    "X_array = [1, 4.2, 0.10, 0.95, 10, 0.01, 20, 190, 1.0003, 4, 0.20, 6.1]\n",
    "price = np.dot(X_array, theta) \n",
    "\n",
    "print('La calidad predecida para esta mezcla es: {:.0f} puntos'.format(price))"
   ]
  }
 ],
 "metadata": {
  "kernelspec": {
   "display_name": "Python 3.10.7 64-bit",
   "language": "python",
   "name": "python3"
  },
  "language_info": {
   "codemirror_mode": {
    "name": "ipython",
    "version": 3
   },
   "file_extension": ".py",
   "mimetype": "text/x-python",
   "name": "python",
   "nbconvert_exporter": "python",
   "pygments_lexer": "ipython3",
   "version": "3.10.7"
  },
  "vscode": {
   "interpreter": {
    "hash": "beedbe2faf2f7048d727558d0bc3221e7eba2a0b921cac4d4771b2feb8f74b30"
   }
  }
 },
 "nbformat": 4,
 "nbformat_minor": 2
}
