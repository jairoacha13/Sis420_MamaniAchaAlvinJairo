{
 "cells": [
  {
   "cell_type": "markdown",
   "metadata": {},
   "source": [
    "# Ejercicio de programación Regresión Lineal Multiple"
   ]
  },
  {
   "cell_type": "code",
   "execution_count": 1,
   "metadata": {},
   "outputs": [],
   "source": [
    "#Alumno: Mamani Acha Alvin Jairo.\n",
    "#Carrera: Ing. De Sistemas.\n",
    "#---------------------------------------------------------------------------------\n",
    "# utilizado para manejos de directorios y rutas\n",
    "import os\n",
    "\n",
    "# Computacion vectorial y cientifica para python\n",
    "import numpy as np\n",
    "\n",
    "# Librerias para graficación (trazado de gráficos)\n",
    "from matplotlib import pyplot\n",
    "from mpl_toolkits.mplot3d import Axes3D  # Necesario para graficar superficies 3D\n",
    "\n",
    "# llama a matplotlib a embeber graficas dentro de los cuadernillos\n",
    "%matplotlib inline"
   ]
  },
  {
   "cell_type": "markdown",
   "metadata": {},
   "source": [
    "## 2 Regresión lineal con multiples variables\n",
    "\n",
    "Se implementa la regresion lineal multivariable para predecir la calidad de los vinos. El archivo `Dataset/winequality-red.csv` contiene un conjunto de datos de entrenamiento de componentes que tiene el vino tinto. Las primeras 11 columnas indican en que medida estan presentes los componentes que conforman el vino blanco y la ultima columna indica la calidad que tiene el vino, en una nota que va del 0 al 10. \n",
    "\n",
    "<a id=\"section4\"></a>\n",
    "### 2.1 Normalización de caracteristicas\n",
    "\n",
    "Al visualizar los datos se puede observar que las caracteristicas tienen diferentes magnitudes, por lo cual se debe transformar cada valor en una escala de valores similares, esto con el fin de que el descenso por el gradiente pueda converger mas rapidamente."
   ]
  },
  {
   "cell_type": "code",
   "execution_count": 2,
   "metadata": {},
   "outputs": [
    {
     "name": "stdout",
     "output_type": "stream",
     "text": [
      "Primeras 10 datos del dataset(Solo se muestran las primeras cinco X):\n",
      "  X[:,0] X[:, 1] X[:, 2] X[:, 3] X[:, 4]         y\n",
      "----------------------------------------------------------------------------------------------------\n",
      "       7       1       0       2       0         5\n",
      "       8       1       0       3       0         5\n",
      "       8       1       0       2       0         5\n",
      "      11       0       1       2       0         6\n",
      "       7       1       0       2       0         5\n",
      "       7       1       0       2       0         5\n",
      "       8       1       0       2       0         5\n",
      "       7       1       0       1       0         7\n",
      "       8       1       0       2       0         7\n",
      "       8       0       0       6       0         5\n"
     ]
    }
   ],
   "source": [
    "# Cargar datos\n",
    "data = np.loadtxt(os.path.join('Dataset', 'winequality-red.csv'), delimiter=',')\n",
    "X = data[:, :11]\n",
    "y = data[:, 11]\n",
    "m = y.size\n",
    "\n",
    "# imprimir algunos puntos de datos\n",
    "print('Primeras 10 datos del dataset(Solo se muestran las primeras cinco X):')\n",
    "print('{:>8s}{:>8s}{:>8s}{:>8s}{:>8s}{:>10s}'.format('X[:,0]', 'X[:, 1]', 'X[:, 2]', 'X[:, 3]', 'X[:, 4]', 'y'))\n",
    "print('-'*100)\n",
    "for i in range(10):\n",
    "    print('{:8.0f}{:8.0f}{:8.0f}{:8.0f}{:8.0f}{:10.0f}'.format(X[i, 0], X[i, 1], X[i, 2], X[i, 3], X[i, 4], y[i]))"
   ]
  },
  {
   "cell_type": "markdown",
   "metadata": {},
   "source": [
    "La desviación estándar es una forma de medir cuánta variación hay en el rango de valores de una característica en particular (la mayoría de los puntos caeran en un rango de ± 2 en relación a la desviaciones estándar de la media); esta es una alternativa a tomar el rango de valores (max-min). En `numpy`, se puede usar la función `std` para calcular la desviacion estandar. \n",
    "\n",
    "Por ejemplo, la caracteristica`X[:, 0]` contiene todos los valores de $x_1$ (tamaño de las casas) en el conjunto de entrenamiento, entonces `np.std(X[:, 0])` calcula la desviacion estandar de los tamaños de las casas.\n",
    "En el momento en que se llama a la función `featureNormalize`, la columna adicional de unos correspondiente a $ x_0 = 1 $ aún no se ha agregado a $ X $. \n",
    "\n",
    "<div class=\"alert alert-block alert-warning\">\n",
    "**Notas para la implementación:** Cuando se normalize una caracteristica, es importante almacenar los valores usados para la normalización - el valor de la media y el valor de la desviación estandar usado para los calculos. Despues de aprender los parametros del modelo, se deseara predecir los precios de casas que no se han visto antes. Dado un nuevo valor de x (area del living room y el numero de dormitorios), primero se debe normalizar x usando la media y la desviacion estandar que se empleo anteriormente en el conjunto de entrenamiento para entrenar el modelo.\n",
    "</div>\n",
    "<a id=\"featureNormalize\"></a>"
   ]
  },
  {
   "cell_type": "code",
   "execution_count": 3,
   "metadata": {},
   "outputs": [],
   "source": [
    "def  featureNormalize(X):\n",
    "    X_norm = X.copy()\n",
    "    mu = np.zeros(X.shape[1])\n",
    "    sigma = np.zeros(X.shape[1])\n",
    "\n",
    "    mu = np.mean(X, axis = 0)\n",
    "    sigma = np.std(X, axis = 0)\n",
    "    X_norm = (X - mu) / sigma\n",
    "    \n",
    "    return X_norm, mu, sigma"
   ]
  },
  {
   "cell_type": "code",
   "execution_count": 4,
   "metadata": {},
   "outputs": [
    {
     "name": "stdout",
     "output_type": "stream",
     "text": [
      "Valores de X:\n",
      "[[ 7.4    0.7    0.    ...  3.51   0.56   9.4  ]\n",
      " [ 7.8    0.88   0.    ...  3.2    0.68   9.8  ]\n",
      " [ 7.8    0.76   0.04  ...  3.26   0.65   9.8  ]\n",
      " ...\n",
      " [ 6.3    0.51   0.13  ...  3.42   0.75  11.   ]\n",
      " [ 5.9    0.645  0.12  ...  3.57   0.71  10.2  ]\n",
      " [ 6.     0.31   0.47  ...  3.39   0.66  11.   ]]\n",
      "****************************************************************************************************\n",
      "Media calculada: [ 8.31963727  0.52782051  0.27097561  2.5388055   0.08746654 15.87492183\n",
      " 46.46779237  0.99674668  3.3111132   0.65814884 10.42298311]\n",
      "****************************************************************************************************\n",
      "Desviación estandar calculada: [1.74055180e+00 1.79003704e-01 1.94740214e-01 1.40948711e+00\n",
      " 4.70505826e-02 1.04568856e+01 3.28850367e+01 1.88674370e-03\n",
      " 1.54338181e-01 1.69453967e-01 1.06533430e+00]\n",
      "****************************************************************************************************\n",
      "Valores de X normalizada:\n",
      "[[-0.52835961  0.96187667 -1.39147228 ...  1.28864292 -0.57920652\n",
      "  -0.96024611]\n",
      " [-0.29854743  1.96744245 -1.39147228 ... -0.7199333   0.1289504\n",
      "  -0.58477711]\n",
      " [-0.29854743  1.29706527 -1.18607043 ... -0.33117661 -0.04808883\n",
      "  -0.58477711]\n",
      " ...\n",
      " [-1.1603431  -0.09955388 -0.72391627 ...  0.70550789  0.54204194\n",
      "   0.54162988]\n",
      " [-1.39015528  0.65462046 -0.77526673 ...  1.6773996   0.30598963\n",
      "  -0.20930812]\n",
      " [-1.33270223 -1.21684919  1.02199944 ...  0.51112954  0.01092425\n",
      "   0.54162988]]\n"
     ]
    }
   ],
   "source": [
    "# llama featureNormalize con los datos cargados\n",
    "X_norm, mu, sigma = featureNormalize(X)\n",
    "\n",
    "print('Valores de X:')\n",
    "print(X)\n",
    "print('*'*100)\n",
    "print('Media calculada:', mu)\n",
    "print('*'*100)\n",
    "print('Desviación estandar calculada:', sigma)\n",
    "print('*'*100)\n",
    "print('Valores de X normalizada:')\n",
    "print(X_norm)"
   ]
  },
  {
   "cell_type": "markdown",
   "metadata": {},
   "source": [
    "Despues de `featureNormalize` la funcion es provada, se añade el temino de interseccion a `X_norm`:"
   ]
  },
  {
   "cell_type": "code",
   "execution_count": 5,
   "metadata": {},
   "outputs": [],
   "source": [
    "# Añade el termino de interseccion a X\n",
    "# (Columna de unos para X0)\n",
    "X = np.concatenate([np.ones((m, 1)), X_norm], axis=1)"
   ]
  },
  {
   "cell_type": "code",
   "execution_count": 6,
   "metadata": {},
   "outputs": [
    {
     "name": "stdout",
     "output_type": "stream",
     "text": [
      "[[ 1.         -0.52835961  0.96187667 ...  1.28864292 -0.57920652\n",
      "  -0.96024611]\n",
      " [ 1.         -0.29854743  1.96744245 ... -0.7199333   0.1289504\n",
      "  -0.58477711]\n",
      " [ 1.         -0.29854743  1.29706527 ... -0.33117661 -0.04808883\n",
      "  -0.58477711]\n",
      " ...\n",
      " [ 1.         -1.1603431  -0.09955388 ...  0.70550789  0.54204194\n",
      "   0.54162988]\n",
      " [ 1.         -1.39015528  0.65462046 ...  1.6773996   0.30598963\n",
      "  -0.20930812]\n",
      " [ 1.         -1.33270223 -1.21684919 ...  0.51112954  0.01092425\n",
      "   0.54162988]]\n"
     ]
    }
   ],
   "source": [
    "print(X)"
   ]
  },
  {
   "cell_type": "markdown",
   "metadata": {},
   "source": [
    "<a id=\"section5\"></a>\n",
    "### 2.2 Descenso por el gradiente\n",
    "\n",
    "En el ejemplo anterior se implemento el descenso por el gradiente para un problema de regresion univariable. La unica diferencia es que ahora existe una caracteristica adicional en la matriz $X$. La función de hipótesis y la regla de actualización del descenso del gradiente por lotes permanecen sin cambios.\n",
    "\n",
    "La implementacion de las funciones `computeCostMulti` y `gradientDescentMulti` son similares a la funcion de costo y función de descenso por el gradiente de la regresión lineal multiple es similar al de la regresion lineal multivariable. Es importante garantizar que el codigo soporte cualquier numero de caracteristicas y esten bien vectorizadas.\n",
    "\n",
    "Se puede utilizar `shape`, propiedad de los arrays `numpy`, para identificar cuantas caracteristicas estan consideradas en el dataset.\n",
    "\n",
    "<div class=\"alert alert-block alert-warning\">\n",
    "**Nota de implementación:** En el caso de multivariables, la función de costo puede se escrita considerando la forma vectorizada de la siguiente manera:\n",
    "\n",
    "$$ J(\\theta) = \\frac{1}{2m}(X\\theta - \\vec{y})^T(X\\theta - \\vec{y}) $$\n",
    "\n",
    "donde:\n",
    "\n",
    "$$ X = \\begin{pmatrix}\n",
    "          - (x^{(1)})^T - \\\\\n",
    "          - (x^{(2)})^T - \\\\\n",
    "          \\vdots \\\\\n",
    "          - (x^{(m)})^T - \\\\ \\\\\n",
    "        \\end{pmatrix} \\qquad \\mathbf{y} = \\begin{bmatrix} y^{(1)} \\\\ y^{(2)} \\\\ \\vdots \\\\ y^{(m)} \\\\\\end{bmatrix}$$\n",
    "\n",
    "La version vectorizada es eficiente cuando se trabaja con herramientas de calculo numericos computacional como `numpy`. \n",
    "</div>\n",
    "\n",
    "<a id=\"computeCostMulti\"></a>"
   ]
  },
  {
   "cell_type": "code",
   "execution_count": 7,
   "metadata": {},
   "outputs": [],
   "source": [
    "def computeCostMulti(X, y, theta):\n",
    "    # Inicializa algunos valores utiles\n",
    "    m = y.shape[0] # numero de ejemplos de entrenamiento\n",
    "    \n",
    "    J = 0\n",
    "    \n",
    "    h = np.dot(X, theta)\n",
    "    \n",
    "    J = (1/(2 * m)) * np.sum(np.square(np.dot(X, theta) - y))\n",
    "    \n",
    "    return J\n"
   ]
  },
  {
   "cell_type": "code",
   "execution_count": 8,
   "metadata": {},
   "outputs": [],
   "source": [
    "def gradientDescentMulti(X, y, theta, alpha, num_iters):\n",
    "    \n",
    "    # Inicializa algunos valores \n",
    "    m = y.shape[0] # numero de ejemplos de entrenamiento\n",
    "    \n",
    "    # realiza una copia de theta, el cual será acutalizada por el descenso por el gradiente\n",
    "    theta = theta.copy()\n",
    "    \n",
    "    J_history = []\n",
    "    \n",
    "    for i in range(num_iters):\n",
    "        theta = theta - (alpha / m) * (np.dot(X, theta) - y).dot(X)\n",
    "        J_history.append(computeCostMulti(X, y, theta))\n",
    "    \n",
    "    return theta, J_history"
   ]
  },
  {
   "cell_type": "markdown",
   "metadata": {},
   "source": [
    "#### 3.2.1 Seleccionando coheficientes de aprendizaje\n"
   ]
  },
  {
   "cell_type": "code",
   "execution_count": 12,
   "metadata": {},
   "outputs": [
    {
     "name": "stdout",
     "output_type": "stream",
     "text": [
      "theta calculado por el descenso por el gradiente: [ 5.63602251  0.04729605 -0.19392812 -0.03593415  0.02412248 -0.08788135\n",
      "  0.04531568 -0.10697059 -0.03713682 -0.06181108  0.15569881  0.29234685]\n",
      "****************************************************************************************************\n",
      "La calidad predecida para este vino tinto es: 8 puntos.\n"
     ]
    },
    {
     "data": {
      "image/png": "[encoded data removed]",
      "text/plain": [
       "<Figure size 640x480 with 1 Axes>"
      ]
     },
     "metadata": {},
     "output_type": "display_data"
    }
   ],
   "source": [
    "# Elegir algun valor para alpha (probar varias alternativas)\n",
    "alpha = 0.01\n",
    "num_iters = 4000\n",
    "\n",
    "# inicializa theta y ejecuta el descenso por el gradiente\n",
    "theta = np.zeros(12)\n",
    "theta, J_history = gradientDescentMulti(X, y, theta, alpha, num_iters)\n",
    "\n",
    "# Grafica la convergencia del costo\n",
    "pyplot.plot(np.arange(len(J_history)), J_history, lw=2)\n",
    "pyplot.xlabel('Numero de iteraciones')\n",
    "pyplot.ylabel('Costo J')\n",
    "\n",
    "# Muestra los resultados del descenso por el gradiente\n",
    "print('theta calculado por el descenso por el gradiente: {:s}'.format(str(theta)))\n",
    "print('*'*100)\n",
    "\n",
    "X_array = [1,13.6,0.31,0.72,2.2,0.05,6.0,31.0,0.88,2.85,0.82,7.8]\n",
    "X_array[1:12] = (X_array[1:12] - mu) / sigma\n",
    "price = np.dot(X_array, theta)  \n",
    "\n",
    "print('La calidad predecida para este vino tinto es: {:.0f} puntos.'.format(price))"
   ]
  },
  {
   "cell_type": "code",
   "execution_count": 13,
   "metadata": {},
   "outputs": [],
   "source": [
    "X_array = [1, 8.3, 0.42, 0.62, 19.25, 0.04, 41, 172, 1.0002, 2.98, 0.67, 9.7]\n",
    "X_array[1:12] = (X_array[1:12] - mu) / sigma"
   ]
  },
  {
   "cell_type": "code",
   "execution_count": 14,
   "metadata": {},
   "outputs": [
    {
     "data": {
      "text/plain": [
       "[-0.011282211362277637,\n",
       " -0.6023367688141665,\n",
       " 1.7922563720362712,\n",
       " 11.856223691936755,\n",
       " -1.0088406766114624,\n",
       " 2.4027305164344686,\n",
       " 3.817304780864819,\n",
       " 1.8303073300274453,\n",
       " -2.145374480385051,\n",
       " 0.06993732378184683,\n",
       " -0.6786443600034483]"
      ]
     },
     "execution_count": 14,
     "metadata": {},
     "output_type": "execute_result"
    }
   ],
   "source": [
    "X_array[1:12]"
   ]
  },
  {
   "cell_type": "markdown",
   "metadata": {},
   "source": [
    "<a id=\"section7\"></a>\n",
    "### 2.3 Ecuacion de la Normal\n",
    "\n",
    "Una manera de calcular rapidamente el modelo de una regresion lineal es:\n",
    "\n",
    "$$ \\theta = \\left( X^T X\\right)^{-1} X^T\\vec{y}$$\n",
    "\n",
    "Utilizando esta formula no requiere que se escale ninguna caracteristica, y se obtendra una solucion exacta con un solo calculo: no hay “bucles de convergencia” como en el descenso por el gradiente. \n",
    "\n",
    "Primero se recargan los datos para garantizar que las variables no esten modificadas. Recordar que no es necesario escalar las caracteristicas, se debe agregar la columna de unos a la matriz $X$ para tener el termino de intersección($\\theta_0$). "
   ]
  },
  {
   "cell_type": "code",
   "execution_count": 15,
   "metadata": {},
   "outputs": [],
   "source": [
    "# Cargar datos\n",
    "data = np.loadtxt(os.path.join('Dataset', 'winequality-red.csv'), delimiter=',')\n",
    "X = data[:, :11]\n",
    "y = data[:, 11]\n",
    "m = y.size\n",
    "X = np.concatenate([np.ones((m, 1)), X], axis=1)"
   ]
  },
  {
   "cell_type": "code",
   "execution_count": 16,
   "metadata": {},
   "outputs": [],
   "source": [
    "def normalEqn(X, y):\n",
    "  \n",
    "    theta = np.zeros(X.shape[1])\n",
    "    \n",
    "    theta = np.dot(np.dot(np.linalg.inv(np.dot(X.T,X)),X.T),y)\n",
    "    \n",
    "    return theta"
   ]
  },
  {
   "cell_type": "code",
   "execution_count": 18,
   "metadata": {},
   "outputs": [
    {
     "name": "stdout",
     "output_type": "stream",
     "text": [
      "Theta calculado a partir de la ecuación de la normal: [ 2.19652084e+01  2.49905527e-02 -1.08359026e+00 -1.82563948e-01\n",
      "  1.63312698e-02 -1.87422516e+00  4.36133331e-03 -3.26457970e-03\n",
      " -1.78811638e+01 -4.13653144e-01  9.16334413e-01  2.76197699e-01]\n",
      "La calidad predecida para este vino tinto es: 4 puntos\n",
      "La calidad predecida para este vino tinto es: 7 puntos.\n"
     ]
    }
   ],
   "source": [
    "# Calcula los parametros con la ecuación de la normal:\n",
    "theta = normalEqn(X, y)\n",
    "\n",
    "# Muestra los resultados optenidos a partir de la aplicación de la ecuación de la normal:\n",
    "print('Theta calculado a partir de la ecuación de la normal: {:s}'.format(str(theta)));\n",
    "\n",
    "# Estimar la calidad que puede tener el vino blanco:\n",
    "\n",
    "X_array = [1, 5.1, 0.10, 0.85, 5.9, 0.01, 17.0, 148.0, 1.0003, 4, 0.66, 6.1]\n",
    "price = np.dot(X_array, theta) \n",
    "print('La calidad predecida para este vino tinto es: {:.0f} puntos'.format(price))\n",
    "\n",
    "#-----------------------------------------------------------------------------------#\n",
    "\n",
    "X_array = [1,12.6,0.31,0.72,2.2,0.07,6.0,29.0,0.9987,2.88,0.82,9.8]\n",
    "X_array[1:12] = (X_array[1:12] - mu) / sigma\n",
    "price = np.dot(X_array, theta)  \n",
    "print('La calidad predecida para este vino tinto es: {:.0f} puntos.'.format(price))\n"
   ]
  }
 ],
 "metadata": {
  "kernelspec": {
   "display_name": "Python 3.10.7 64-bit",
   "language": "python",
   "name": "python3"
  },
  "language_info": {
   "codemirror_mode": {
    "name": "ipython",
    "version": 3
   },
   "file_extension": ".py",
   "mimetype": "text/x-python",
   "name": "python",
   "nbconvert_exporter": "python",
   "pygments_lexer": "ipython3",
   "version": "3.10.7"
  },
  "vscode": {
   "interpreter": {
    "hash": "beedbe2faf2f7048d727558d0bc3221e7eba2a0b921cac4d4771b2feb8f74b30"
   }
  }
 },
 "nbformat": 4,
 "nbformat_minor": 2
}
